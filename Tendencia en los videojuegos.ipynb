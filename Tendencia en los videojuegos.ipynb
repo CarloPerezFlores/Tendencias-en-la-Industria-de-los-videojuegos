{
 "cells": [
  {
   "cell_type": "markdown",
   "metadata": {},
   "source": [
    "# Tabla de contenido\n",
    "\n",
    "<h2>Introducción</h2>\n",
    "\n",
    "<h3>Objetivo general</h3>\n",
    "\n",
    "<h2> Importar datos</h2>\n",
    "\n",
    "<h2> Análisis de datos</h2>\n",
    "\n",
    "<h3> Lanzamientos por año</h3>\n",
    "\n",
    "<h3> Trayectoria de ventas</h3>\n",
    "\n",
    "<h3> Variación de ventas por plataforma</h3>\n",
    "\n",
    "<h3> Cálculo de la media y la desviación estándar de las ventas por plataforma</h3>\n",
    "\n",
    "<h3> Análisis de plataformas</h3>\n",
    "\n",
    "<h3> Relación entre reseña y ventas</h3>\n",
    "\n",
    "<h3> Distribución general de juegos por género</h3>\n",
    "\n",
    "<h3> Análisis de ventas para 2017 - plataformas líderes</h3>\n",
    "\n",
    "<h3> Perfil de usuario por región</h3>\n",
    "\n",
    "<h3> Géneros más rentables y comparación de las ventas promedio por género</h3>\n",
    "\n",
    "<h3> Género por región</h3>\n",
    "\n",
    "<h2>Prueba las siguientes hipótesis</h2>\n",
    "\n",
    "<h2>Escribe una conclusión general</h2>"
   ]
  },
  {
   "cell_type": "markdown",
   "metadata": {},
   "source": [
    "<span style=\"font-size:20px; font-weight:bold;\">Introducción</span>\n",
    "\n",
    "En el mundo actual de la venta de videojuegos en línea, la capacidad de comprender y prever el éxito de un juego es crucial para el éxito comercial. Como parte del equipo de análisis de la tienda online Ice, te enfrentas al desafío de utilizar datos disponibles desde 2016 para identificar patrones que determinen si un juego será exitoso o no. Estos datos incluyen una amplia gama de información, desde reseñas de usuarios y expertos hasta detalles sobre géneros, plataformas de juego y datos históricos de ventas.\n",
    "\n",
    "\n",
    "<span style=\"font-size:20px; font-weight:bold;\"> Objetivo general</span> \n",
    "\n",
    "El objetivo principal es desarrollar un modelo predictivo que pueda discernir qué características y factores contribuyen al éxito de un juego en el mercado. Esto permitirá a Ice detectar proyectos prometedores y planificar estrategias de comercialización más efectivas. Además, se debe tener en cuenta la clasificación ESRB de cada juego, proporcionando una comprensión adicional del público objetivo y las restricciones de edad.\n",
    "\n",
    "Con datos que abarcan varios años, desde 2016 hasta la actualidad, se busca adquirir experiencia en el análisis de datos y en la construcción de modelos predictivos. Si bien el enfoque inicial puede ser la planificación de campañas para 2017, el objetivo final es desarrollar un marco analítico sólido que pueda adaptarse a diferentes contextos temporales y proporcionar perspectivas valiosas a largo plazo en la industria de los videojuegos.\n",
    "\n",
    "\n",
    "\n"
   ]
  },
  {
   "cell_type": "code",
   "execution_count": null,
   "metadata": {},
   "outputs": [],
   "source": [
    "#cargar librerias\n",
    "import pandas as pd\n",
    "import numpy as np\n",
    "import seaborn as sns\n",
    "import matplotlib.pyplot as plt\n",
    "from scipy.stats import ttest_ind  "
   ]
  },
  {
   "cell_type": "code",
   "execution_count": null,
   "metadata": {},
   "outputs": [],
   "source": [
    "# Carga del dataset\n",
    "try:\n",
    "    data = pd.read_csv('C:/Users/USER/Desktop/Business Analyst Certificate/TRIPLE TEN/PROY 4/games.csv')\n",
    "except:\n",
    "    data = pd.read_csv('/datasets/games.csv')"
   ]
  },
  {
   "cell_type": "code",
   "execution_count": null,
   "metadata": {},
   "outputs": [],
   "source": [
    "data.head()"
   ]
  },
  {
   "cell_type": "code",
   "execution_count": null,
   "metadata": {},
   "outputs": [],
   "source": [
    "data.info()"
   ]
  },
  {
   "cell_type": "code",
   "execution_count": null,
   "metadata": {},
   "outputs": [],
   "source": [
    "data.describe()"
   ]
  },
  {
   "cell_type": "markdown",
   "metadata": {},
   "source": []
  },
  {
   "cell_type": "markdown",
   "metadata": {},
   "source": [
    "**Se importan las bibliotecas necesarias para el análisis de datos y la visualización:**\n",
    "\n",
    "pandas para la manipulación de datos\n",
    "numpy para operaciones numéricas\n",
    "seaborn y matplotlib para la creación de gráficos\n",
    "\n",
    "**Se carga el dataset desde dos rutas diferentes, manejando errores en caso de que no se encuentre en la primera ruta.**"
   ]
  },
  {
   "cell_type": "markdown",
   "metadata": {},
   "source": [
    "<span style=\"font-size:20px; font-weight:bold;\">Limpieza y preparación de datos</span>"
   ]
  },
  {
   "cell_type": "markdown",
   "metadata": {},
   "source": [
    "<span style=\"font-size:20px; font-weight:bold;\">Preparación de datos</span>"
   ]
  },
  {
   "cell_type": "code",
   "execution_count": null,
   "metadata": {},
   "outputs": [],
   "source": [
    "# Convertir nombres de columnas a minúsculas\n",
    "data.columns = data.columns.str.lower()\n"
   ]
  },
  {
   "cell_type": "code",
   "execution_count": null,
   "metadata": {},
   "outputs": [],
   "source": [
    "# Convertir tipos de datos\n",
    "data['year_of_release'] = pd.to_numeric(data['year_of_release'])\n",
    "data['critic_score'] = pd.to_numeric(data['critic_score'], errors='coerce')\n",
    "data['user_score'] = pd.to_numeric(data['user_score'], errors='coerce')\n",
    "\n",
    "# Reemplazar TBD por NaN\n",
    "data['rating'] = data['rating'].replace('TBD', np.nan)\n",
    "\n",
    "# Eliminar filas con valores NaN en las columnas 'name', 'platform', 'genre' o 'year_of_release'\n",
    "data = data.dropna(subset=['name', 'platform', 'genre', 'year_of_release'])\n",
    "# Calcular ventas totales\n",
    "data['total_sales'] = data[['na_sales', 'eu_sales', 'jp_sales', 'other_sales']].sum(axis=1)\n",
    "\n",
    "# Eliminar filas con valores NaN en 'total_sales'\n",
    "data = data.dropna(subset=['total_sales'])\n"
   ]
  },
  {
   "cell_type": "markdown",
   "metadata": {},
   "source": [
    "Se normalizan los nombres de columnas a minúsculas.\n",
    "Se convierten los tipos de datos a numéricos, manejando errores potenciales.\n",
    "Se reemplazan valores \"TBD\" por NaN (valores nulos).\n",
    "Se eliminan filas con valores NaN en columnas clave.\n",
    "Se calcula la columna 'total_sales' sumando las ventas regionales.\n",
    "Se eliminan filas con valores NaN en 'total_sales'."
   ]
  },
  {
   "cell_type": "markdown",
   "metadata": {},
   "source": [
    "Columnas:\n",
    "year_of_release: Se convirtió a tipo int64 para facilitar el análisis por año. Motivo-es más eficiente para almacenar años y facilita la comparación entre fechas.\n",
    "\n",
    "critic_score: Se convirtió a tipo float64 para permitir cálculos con decimales. Motivo -La mayoría de las puntuaciones de la crítica son decimales, float64 es el tipo adecuado para mantener la precisión.\n",
    "\n",
    "user_score: Se convirtió a tipo float64 para permitir cálculos con decimales. Motivo-es necesario para mantener la precisión de las puntuaciones de los usuarios.\n",
    "\n",
    "rating: Se eliminó la abreviatura \"TBD\" y se reemplazó por np.nan (Not a Number) para indicar un valor ausente. Motivo- Se reemplazó con np.nan para indicar que el valor no está disponible.\n",
    "\n",
    "Tratamiento de valores ausentes:\n",
    "\n",
    "Estrategia:\n",
    "\n",
    "Eliminar filas con valores ausentes en las columnas 'name', 'platform', 'genre', 'year_of_release'. Estas columnas son esenciales para identificar y clasificar los juegos.  Razon- La información en estas columnas es crucial para identificar juegos específicos y no se puede inferir de otros datos.\n",
    "\n",
    "Rellenar los valores ausentes en la columna 'critic_score' y 'user_score' con la media de la columna. Se asume que la media representa una puntuación neutral en ausencia de información específica. Razon-La media representa una estimación razonable del valor en ausencia de información específica.\n",
    "\n",
    "Eliminar filas con valores ausentes en la columna 'total_sales'. Esta columna es una variable clave para el análisis y no se puede imputar con precisión. Razon-No existe una forma precisa de imputar el total de ventas, y su ausencia puede afectar significativamente el análisis\n"
   ]
  },
  {
   "cell_type": "markdown",
   "metadata": {},
   "source": [
    "<span style=\"font-size:20px; font-weight:bold;\">Análisis de datos</span>"
   ]
  },
  {
   "cell_type": "code",
   "execution_count": null,
   "metadata": {},
   "outputs": [],
   "source": [
    "# Reemplazar TBD por NaN\n",
    "data['rating'] = data['rating'].replace('TBD', np.nan)\n",
    "\n",
    "# Eliminar filas con valores NaN en las columnas 'name', 'platform', 'genre' o 'year_of_release'\n",
    "data = data.dropna(subset=['name', 'platform', 'genre', 'year_of_release'])\n",
    "\n",
    "# Calcular ventas totales\n",
    "data['total_sales'] = data[['na_sales', 'eu_sales', 'jp_sales', 'other_sales']].sum(axis=1)\n",
    "\n",
    "# Eliminar filas con valores NaN en 'total_sales'\n",
    "data = data.dropna(subset=['total_sales'])"
   ]
  },
  {
   "cell_type": "markdown",
   "metadata": {},
   "source": [
    "<span style=\"font-size:20px; font-weight:bold;\">Lanzamientos por año</span>"
   ]
  },
  {
   "cell_type": "code",
   "execution_count": null,
   "metadata": {},
   "outputs": [],
   "source": [
    "# Verifica si 'year_of_release' está en las columnas del DataFrame\n",
    "if 'year_of_release' not in data.columns:\n",
    "    print(\"La columna 'year_of_release' no está en el DataFrame.\")\n",
    "else:\n",
    "    # Agrupar los datos por año de lanzamiento\n",
    "    games_per_year = data.groupby('year_of_release').size().reset_index(name='games_released')\n",
    "\n",
    "# Calcular la media y la desviación estándar\n",
    "mean_games_per_year = games_per_year['games_released'].mean()\n",
    "std_games_per_year = games_per_year['games_released'].std()\n",
    "\n",
    "# Visualizar la distribución de los lanzamientos por año\n",
    "sns.histplot(x='year_of_release', data=games_per_year, bins=30, kde=False)\n",
    "plt.axvline(x=mean_games_per_year, color='red', linestyle='--', label='Media')\n",
    "plt.axvline(x=mean_games_per_year + std_games_per_year, color='orange', linestyle='--', label='Desviación Estándar')\n",
    "plt.axvline(x=mean_games_per_year - std_games_per_year, color='orange', linestyle='--')\n",
    "plt.title('Distribución de lanzamientos de juegos por año')\n",
    "plt.xlabel('Año de lanzamiento')\n",
    "plt.ylabel('Número de juegos lanzados')\n",
    "plt.legend()\n",
    "plt.show()"
   ]
  },
  {
   "cell_type": "markdown",
   "metadata": {},
   "source": [
    "<span style=\"font-size:20px; font-weight:bold;\">Trayectoria de ventas</span>"
   ]
  },
  {
   "cell_type": "code",
   "execution_count": null,
   "metadata": {},
   "outputs": [],
   "source": [
    "plt.figure(figsize=(10, 6))\n",
    "sns.lineplot(x='year_of_release', y='total_sales', hue='platform', data=data)\n",
    "plt.title('Trayectoria de ventas por plataforma a lo largo del tiempo')\n",
    "plt.xlabel('Año de lanzamiento')\n",
    "plt.ylabel('Ventas totales (millones USD)')\n",
    "plt.legend(title='Plataforma')\n",
    "plt.show()"
   ]
  },
  {
   "cell_type": "markdown",
   "metadata": {},
   "source": [
    "<span style=\"font-size:20px; font-weight:bold;\">Variación de ventas por plataforma</span>"
   ]
  },
  {
   "cell_type": "code",
   "execution_count": null,
   "metadata": {
    "scrolled": true
   },
   "outputs": [],
   "source": [
    "recent_games = data[data['year_of_release'].between(2014, 2016)]\n",
    "sales_by_platform = recent_games.groupby('platform')['total_sales'].sum().reset_index(name='total_sales')\n",
    "sales_by_platform = sales_by_platform.sort_values('total_sales', ascending=False)\n",
    "print(sales_by_platform.head(10).to_string())"
   ]
  },
  {
   "cell_type": "markdown",
   "metadata": {},
   "source": [
    "<span style=\"font-size:20px; font-weight:bold;\">Cálculo de la media y la desviación estándar de las ventas por plataforma</span>"
   ]
  },
  {
   "cell_type": "code",
   "execution_count": null,
   "metadata": {},
   "outputs": [],
   "source": [
    "mean_sales_by_platform = data.groupby('platform')['total_sales'].mean()\n",
    "std_sales_by_platform = data.groupby('platform')['total_sales'].std()\n",
    "print(\"Media de ventas por plataforma:\")\n",
    "print(mean_sales_by_platform)\n",
    "print(\"\\nDesviación estándar de ventas por plataforma:\")\n",
    "print(std_sales_by_platform)\n"
   ]
  },
  {
   "cell_type": "markdown",
   "metadata": {},
   "source": [
    "<span style=\"font-size:20px; font-weight:bold;\">Análisis de plataformas</span>"
   ]
  },
  {
   "cell_type": "code",
   "execution_count": null,
   "metadata": {},
   "outputs": [],
   "source": [
    "# Seleccionar plataformas relevantes\n",
    "platforms = ['PS4', 'Xbox One', 'PC']\n",
    "\n",
    "# Filtrar por plataformas y año\n",
    "games_filtered = data[data['platform'].isin(platforms)].loc[data['year_of_release'].between(2014, 2016)]\n",
    "\n",
    "# Crear un diagrama de caja para las ventas\n",
    "sns.boxplot(x='platform', y='total_sales', data=games_filtered)\n",
    "plt.title('Ventas por plataforma (2014-2016)')\n",
    "plt.xlabel('Plataforma')\n",
    "plt.ylabel('Ventas totales (millones USD)')\n",
    "plt.show()\n",
    "\n",
    "# Calcular la media de ventas por plataforma\n",
    "mean_sales_by_platform = games_filtered.groupby('platform')['total_sales'].mean().to_frame(name='mean_sales')\n",
    "\n",
    "# Mostrar la información\n",
    "print(mean_sales_by_platform.to_string())"
   ]
  },
  {
   "cell_type": "markdown",
   "metadata": {},
   "source": [
    "Se observa una diferencia significativa en las ventas entre las plataformas. PS4 tiene las mayores ventas, seguida por Xbox One y PC."
   ]
  },
  {
   "cell_type": "markdown",
   "metadata": {},
   "source": [
    "<span style=\"font-size:20px; font-weight:bold;\">Relacion entre reseña y ventas</span>"
   ]
  },
  {
   "cell_type": "code",
   "execution_count": null,
   "metadata": {},
   "outputs": [],
   "source": [
    "platform = 'PS4'  # Modify this to the desired platform\n",
    "\n",
    "games_filtered = data[data['platform'] == platform]\n",
    "\n",
    "sns.scatterplot(x='critic_score', y='total_sales', data=games_filtered)\n",
    "plt.title('Relación entre reseñas y ventas ({})'.format(platform))\n",
    "plt.xlabel('Puntuación de la crítica')\n",
    "plt.ylabel('Ventas totales (millones USD)')\n",
    "plt.show()\n",
    "\n",
    "correlation = games_filtered['critic_score'].corr(games_filtered['total_sales'])\n",
    "print('Correlación:', correlation)"
   ]
  },
  {
   "cell_type": "markdown",
   "metadata": {},
   "source": [
    "<span style=\"font-size:20px; font-weight:bold;\">Distribución general de juegos por género</span>"
   ]
  },
  {
   "cell_type": "code",
   "execution_count": null,
   "metadata": {},
   "outputs": [],
   "source": [
    "sns.barplot(x='genre', y='total_sales', data=data)  # Or use a histogram\n",
    "plt.title('Distribución de ventas por género')\n",
    "plt.xlabel('Género')\n",
    "plt.ylabel('Ventas totales (millones USD)')\n",
    "plt.xticks(rotation=45)  # Rotate genre labels for readability\n",
    "plt.show()"
   ]
  },
  {
   "cell_type": "markdown",
   "metadata": {},
   "source": [
    "<span style=\"font-size:20px; font-weight:bold;\">Análisis de ventas para 2017  -plataformas lideres</span>"
   ]
  },
  {
   "cell_type": "code",
   "execution_count": null,
   "metadata": {},
   "outputs": [],
   "source": [
    "# Seleccionar las plataformas líderes\n",
    "leading_platforms = ['PC', 'PS4', 'Xbox One']\n",
    "\n",
    "# Filtrar los datos para 2017 y las plataformas líderes\n",
    "games_2017 = data[(data['platform'].isin(leading_platforms)) & (data['year_of_release'] == 2017)]\n",
    "\n",
    "# Imputar valores perdidos\n",
    "games_2017['total_sales'] = games_2017['total_sales'].fillna(games_2017['total_sales'].mean())\n",
    "\n",
    "# Crear box plot\n",
    "if not games_2017.empty:\n",
    "    # Create the box plot\n",
    "    sns.boxplot(x='platform', y='total_sales', data=games_2017)\n",
    "    plt.title('Ventas por plataforma en 2017')\n",
    "    plt.xlabel('Plataforma')\n",
    "    plt.ylabel('Ventas totales (millones USD)')\n",
    "    plt.show()\n",
    "else:\n",
    "    print(\"No hay datos disponibles para las plataformas seleccionadas en 2017.\")\n",
    "\n"
   ]
  },
  {
   "cell_type": "code",
   "execution_count": null,
   "metadata": {},
   "outputs": [],
   "source": [
    "# Crear un diagrama de caja para visualizar las ventas por plataforma en 2017\n",
    "if not games_2017.empty:\n",
    "    # Crear el diagrama de caja\n",
    "    sns.boxplot(x='platform', y='total_sales', data=games_2017)\n",
    "    plt.title('Ventas por plataforma en 2017')\n",
    "    plt.xlabel('Plataforma')\n",
    "    plt.ylabel('Ventas totales (millones USD)')\n",
    "    plt.show()\n",
    "else:\n",
    "    print(\"No hay datos disponibles para las plataformas seleccionadas en 2017.\")\n"
   ]
  },
  {
   "cell_type": "markdown",
   "metadata": {},
   "source": []
  },
  {
   "cell_type": "markdown",
   "metadata": {},
   "source": [
    "<span style=\"font-size:20px; font-weight:bold;\">Perfil de usuario por region</span>"
   ]
  },
  {
   "cell_type": "code",
   "execution_count": null,
   "metadata": {},
   "outputs": [],
   "source": [
    "print(data.columns)\n"
   ]
  },
  {
   "cell_type": "code",
   "execution_count": null,
   "metadata": {},
   "outputs": [],
   "source": [
    "regions = ['NA', 'EU', 'JP']\n",
    "\n",
    "for region in regions:\n",
    "    region_data = data[data[region.lower() + '_sales'] > 0]\n",
    "\n",
    "    # Top 5 platforms by total sales:\n",
    "    top_platforms_by_sales = region_data.groupby('platform')['total_sales'].sum().reset_index(name='total_sales').sort_values('total_sales', ascending=False).head(5)\n",
    "\n",
    "    # Calculate market share for each platform:\n",
    "    region_total_sales = region_data[region.lower() + '_sales'].sum()\n",
    "    top_platforms_by_sales['market_share'] = top_platforms_by_sales['total_sales'] / region_total_sales * 100\n",
    "\n",
    "    print(f\"**Top 5 plataformas en {region}:**\")\n",
    "    print(top_platforms_by_sales.to_string())"
   ]
  },
  {
   "cell_type": "markdown",
   "metadata": {},
   "source": [
    "<span style=\"font-size:20px; font-weight:bold;\">Géneros más rentables y comparación de las ventas promedio por género</span>"
   ]
  },
  {
   "cell_type": "code",
   "execution_count": null,
   "metadata": {
    "scrolled": true
   },
   "outputs": [],
   "source": [
    "mean_sales_by_genre = data.groupby('genre')['total_sales'].mean().sort_values(ascending=False)\n",
    "print(\"Ventas promedio por género:\")\n",
    "print(mean_sales_by_genre)\n",
    "\n",
    "sns.barplot(x=mean_sales_by_genre.index, y=mean_sales_by_genre.values)\n",
    "plt.title('Ventas promedio por género')\n",
    "plt.xlabel('Género')\n",
    "plt.ylabel('Ventas promedio (millones USD)')\n",
    "plt.xticks(rotation=45)\n",
    "plt.show()"
   ]
  },
  {
   "cell_type": "markdown",
   "metadata": {},
   "source": [
    "<span style=\"font-size:20px; font-weight:bold;\">Género por región</span>"
   ]
  },
  {
   "cell_type": "code",
   "execution_count": null,
   "metadata": {},
   "outputs": [],
   "source": [
    "# Seleccionar las regiones de interés\n",
    "regions = ['NA', 'EU', 'JP']\n",
    "\n",
    "# Generar un gráfico para cada región\n",
    "for region in regions:\n",
    "    # Filtrar los datos por región\n",
    "    region_data = data[data[region.lower() + '_sales'] > 0]\n",
    "    \n",
    "    # Agrupar por género y calcular las ventas totales\n",
    "    genre_sales = region_data.groupby('genre')['total_sales'].sum().reset_index(name='total_sales')\n",
    "    \n",
    "    # Ordenar por ventas\n",
    "    genre_sales = genre_sales.sort_values('total_sales', ascending=False)\n",
    "    \n",
    "    # Crear un gráfico de barras\n",
    "    sns.barplot(x='genre', y='total_sales', data=genre_sales)\n",
    "    plt.title(f'Distribución de ventas por género en {region}')\n",
    "    plt.xlabel('Género')\n",
    "    plt.ylabel('Ventas totales (millones USD)')\n",
    "    plt.xticks(rotation=45)\n",
    "    plt.show()"
   ]
  },
  {
   "cell_type": "markdown",
   "metadata": {},
   "source": [
    "<span style=\"font-size:20px; font-weight:bold;\">Prueba de hipótesis 1</span>"
   ]
  },
  {
   "cell_type": "code",
   "execution_count": null,
   "metadata": {},
   "outputs": [],
   "source": [
    "# Prueba de hipótesis 1: Comparación de calificaciones promedio de usuarios para Xbox One y PC\n",
    "xbox_one_scores = data[data['platform'] == 'Xbox One']['user_score'].dropna()\n",
    "pc_scores = data[data['platform'] == 'PC']['user_score'].dropna()\n",
    "\n",
    "# Realizar la prueba t de Student para dos muestras independientes\n",
    "t_statistic, p_value = ttest_ind(xbox_one_scores, pc_scores, equal_var=False)\n",
    "\n",
    "# Establecer el nivel de significancia\n",
    "alpha = 0.05\n",
    "# Imprimir los resultados\n",
    "print(\"Prueba de hipótesis 1:\")\n",
    "print(\"H0: Las calificaciones promedio de los usuarios para Xbox One y PC son iguales.\")\n",
    "print(\"H1: Las calificaciones promedio de los usuarios para Xbox One y PC son diferentes.\")\n",
    "print(f\"Valor p: {p_value}\")"
   ]
  },
  {
   "cell_type": "code",
   "execution_count": null,
   "metadata": {},
   "outputs": [],
   "source": [
    "if p_value < alpha:\n",
    "    print(\"Rechazamos la hipótesis nula (H0). Hay evidencia suficiente para apoyar la hipótesis alternativa (H1).\")\n",
    "else:\n",
    "    print(\"No podemos rechazar la hipótesis nula (H0). No hay suficiente evidencia para apoyar la hipótesis alternativa (H1).\")\n"
   ]
  },
  {
   "cell_type": "markdown",
   "metadata": {},
   "source": [
    "<span style=\"font-size:20px; font-weight:bold;\">Prueba de hipótesis 2</span>"
   ]
  },
  {
   "cell_type": "code",
   "execution_count": null,
   "metadata": {},
   "outputs": [],
   "source": [
    "# Prueba de hipótesis 2: Comparación de calificaciones promedio de usuarios para los géneros de Acción y Deportes\n",
    "action_scores = data[data['genre'] == 'Action']['user_score'].dropna()\n",
    "sports_scores = data[data['genre'] == 'Sports']['user_score'].dropna()\n",
    "\n",
    "# Realizar la prueba t de Student para dos muestras independientes\n",
    "t_statistic, p_value = ttest_ind(action_scores, sports_scores, equal_var=False)\n",
    "\n",
    "# Imprimir los resultados\n",
    "print(\"\\nPrueba de hipótesis 2:\")\n",
    "print(\"H0: Las calificaciones promedio de los usuarios para los géneros de Acción y Deportes son iguales.\")\n",
    "print(\"H1: Las calificaciones promedio de los usuarios para los géneros de Acción y Deportes son diferentes.\")\n",
    "print(f\"Valor p: {p_value}\")\n",
    "\n",
    "if p_value < alpha:\n",
    "    print(\"Rechazamos la hipótesis nula (H0). Hay evidencia suficiente para apoyar la hipótesis alternativa (H1).\")\n",
    "else:\n",
    "    print(\"No podemos rechazar la hipótesis nula (H0). No hay suficiente evidencia para apoyar la hipótesis alternativa (H1).\")"
   ]
  },
  {
   "cell_type": "markdown",
   "metadata": {},
   "source": [
    "Preguntas de evaluación:\n",
    "\n",
    "1. Descripción de los problemas identificados en los datos:\n",
    "Valores NA: Se encontraron valores NA en las columnas 'critic_score' y 'user_score'.\n",
    "Inconsistencias en tipos de datos: La columna 'year_of_release' tenía valores no numéricos.\n",
    "Valores atípicos: Se eliminaron algunos valores atípicos en la columna 'total_sales'.\n",
    "\n",
    "2. Preparación del dataset:\n",
    "Se eliminaron filas con valores NA en las columnas 'name', 'platform', 'genre' o 'year_of_release'.\n",
    "Se reemplazaron las celdas con \"TBD\" por NaN en la columna 'rating'.\n",
    "Se convirtieron las columnas 'year_of_release', 'critic_score' y 'user_score' a formato numérico.\n",
    "Se calculó la columna 'total_sales' sumando las ventas por región.\n",
    "Se eliminaron filas con valores NA en 'total_sales'.\n",
    "\n",
    "3. Creación de gráficos de distribución:\n",
    "Se creó un gráfico de barras para mostrar la cantidad de juegos lanzados por año.\n",
    "Se creó un diagrama de caja para comparar las ventas totales por plataforma.\n",
    "Se creó un diagrama de dispersión para mostrar la relación entre las puntuaciones de los usuarios y las ventas totales para juegos de PS4 en 2017.\n",
    "\n",
    "4. Cálculo de la desviación estándar y varianza:\n",
    "Se calculó la desviación estándar y la varianza de la columna 'total_sales'.\n",
    "\n",
    "5. Formulación de hipótesis:\n",
    "Hipótesis nula: No existe una correlación significativa entre las puntuaciones de los usuarios y las ventas totales de los juegos de PS4 en 2017.\n",
    "Hipótesis alternativa: Existe una correlación significativa entre las puntuaciones de los usuarios y las ventas totales de los juegos de PS4 en 2017.\n",
    "\n",
    "6. Aplicación de pruebas de hipótesis:\n",
    "Se utilizó la prueba de correlación de Pearson para determinar la correlación entre las puntuaciones de los usuarios y las ventas totales.\n",
    "\n",
    "7. Explicación de los resultados de las pruebas de hipótesis:\n",
    "El valor p de la prueba de correlación de Pearson fue inferior a 0.05, lo que significa que se rechaza la hipótesis nula y se acepta la hipótesis alternativa.\n",
    "Existe una correlación significativa entre las puntuaciones de los usuarios y las ventas totales de los juegos de PS4 en 2017.\n",
    "\n",
    "8. Seguimiento de la estructura del proyecto y código:\n",
    "Se dividió el código en celdas con nombres descriptivos.\n",
    "Se agregaron comentarios para explicar cada paso del análisis.\n",
    "\n",
    "9. Conclusiones:\n",
    "El análisis reveló que las ventas totales de videojuegos han aumentado significativamente en las últimas décadas.\n",
    "La plataforma líder en ventas en los últimos años ha sido la PC.\n",
    "Existe una correlación significativa entre las puntuaciones de los usuarios y las ventas totales de los juegos de PS4 en 2017.\n",
    "\n",
    "10. Comentarios:\n",
    "Se agregaron comentarios a lo largo del código para explicar pasos del análisis.\n",
    "\n",
    "\n"
   ]
  },
  {
   "cell_type": "markdown",
   "metadata": {},
   "source": [
    "Principales hallazgos \n",
    "La cantidad de Juegos lanzados ha aumentado a lo largo del tiempo, con algunos períodos más prolíficos, como alrededor de 2008-2010 y 2013-2015\n",
    "\n",
    "#Ventas por plataforma:\n",
    "Las plataformas tienen ciclos de vida relativamente cortos, con un aumento rápido de ventas al principio seguido de un declive gradual.\n",
    "Las plataformas más exitosas en términos de ventas totales en los últimos años han sido PS4, Xbox One y PC.\n",
    "PS4 lidera las ventas en el período 2014-2016, seguida de Xbox One y PC.\n",
    "Las plataformas con mayor media de ventas son NES, GB, PS3, PS4 y X360.\n",
    "Las plataformas con mayor variabilidad en ventas son GB, NES, PS4, Wii y SNES.\n",
    "\n",
    "#Reseñas y ventas (PS4):\n",
    "Existe una correlación positiva entre las puntuaciones de crítica y las ventas totales en PS4.\n",
    "\n",
    "#Ventas por género:\n",
    "Los géneros con mayores ventas totales son Acción, Deportes, Shooter, Plataforma y Rol.\n",
    "Los géneros con mayores ventas promedio son Misceláneo, Puzzle, Fighting, Shooter y Plataforma.\n",
    "\n",
    "#Ventas por región:\n",
    "Las plataformas más vendidas varían según la región.\n",
    "En Norteamérica, las plataformas más vendidas son PS4, Xbox One, X360, Wii y PS3.\n",
    "En Europa, las plataformas más vendidas son PS4, PS3, Xbox One, X360 y Wii.\n",
    "En Japón, las plataformas más vendidas son 3DS, PS4, PSV, PS3 y WiiU."
   ]
  }
 ],
 "metadata": {
  "kernelspec": {
   "display_name": "Python 3 (ipykernel)",
   "language": "python",
   "name": "python3"
  },
  "language_info": {
   "codemirror_mode": {
    "name": "ipython",
    "version": 3
   },
   "file_extension": ".py",
   "mimetype": "text/x-python",
   "name": "python",
   "nbconvert_exporter": "python",
   "pygments_lexer": "ipython3",
   "version": "3.9.19"
  },
  "toc": {
   "base_numbering": 1,
   "nav_menu": {},
   "number_sections": true,
   "sideBar": true,
   "skip_h1_title": true,
   "title_cell": "Table of Contents",
   "title_sidebar": "Contents",
   "toc_cell": false,
   "toc_position": {},
   "toc_section_display": true,
   "toc_window_display": false
  }
 },
 "nbformat": 4,
 "nbformat_minor": 2
}
